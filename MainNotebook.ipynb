{
 "cells": [
  {
   "cell_type": "code",
   "execution_count": 113,
   "metadata": {},
   "outputs": [],
   "source": [
    "import pandas as pd\n",
    "import numpy as np\n",
    "import matplotlib.pyplot as plt\n",
    "import seaborn as snsAA\n",
    "%matplotlib inline"
   ]
  },
  {
   "cell_type": "code",
   "execution_count": 114,
   "metadata": {},
   "outputs": [
    {
     "name": "stderr",
     "output_type": "stream",
     "text": [
      "C:\\Users\\yashg\\Anaconda3\\lib\\site-packages\\IPython\\core\\interactiveshell.py:2698: DtypeWarning: Columns (1,2,3,4,10,12) have mixed types. Specify dtype option on import or set low_memory=False.\n",
      "  interactivity=interactivity, compiler=compiler, result=result)\n"
     ]
    }
   ],
   "source": [
    "DF=pd.read_csv('merged.csv')"
   ]
  },
  {
   "cell_type": "code",
   "execution_count": 115,
   "metadata": {},
   "outputs": [
    {
     "data": {
      "text/html": [
       "<div>\n",
       "<style scoped>\n",
       "    .dataframe tbody tr th:only-of-type {\n",
       "        vertical-align: middle;\n",
       "    }\n",
       "\n",
       "    .dataframe tbody tr th {\n",
       "        vertical-align: top;\n",
       "    }\n",
       "\n",
       "    .dataframe thead th {\n",
       "        text-align: right;\n",
       "    }\n",
       "</style>\n",
       "<table border=\"1\" class=\"dataframe\">\n",
       "  <thead>\n",
       "    <tr style=\"text-align: right;\">\n",
       "      <th></th>\n",
       "      <th>appName</th>\n",
       "      <th>totalSourceBytes</th>\n",
       "      <th>totalDestinationBytes</th>\n",
       "      <th>totalDestinationPackets</th>\n",
       "      <th>totalSourcePackets</th>\n",
       "      <th>direction</th>\n",
       "      <th>sourceTCPFlagsDescription</th>\n",
       "      <th>destinationTCPFlagsDescription</th>\n",
       "      <th>source</th>\n",
       "      <th>protocolName</th>\n",
       "      <th>sourcePort</th>\n",
       "      <th>destination</th>\n",
       "      <th>destinationPort</th>\n",
       "      <th>startDateTime</th>\n",
       "      <th>stopDateTime</th>\n",
       "      <th>Tag</th>\n",
       "    </tr>\n",
       "  </thead>\n",
       "  <tbody>\n",
       "    <tr>\n",
       "      <th>0</th>\n",
       "      <td>BitTorrent</td>\n",
       "      <td>391223</td>\n",
       "      <td>4114484</td>\n",
       "      <td>7322</td>\n",
       "      <td>5650</td>\n",
       "      <td>L2R</td>\n",
       "      <td>F,P,A</td>\n",
       "      <td>F,P,A</td>\n",
       "      <td>192.168.2.107</td>\n",
       "      <td>tcp_ip</td>\n",
       "      <td>1989</td>\n",
       "      <td>80.246.149.72</td>\n",
       "      <td>6880</td>\n",
       "      <td>2010-06-14T21:54:57</td>\n",
       "      <td>2010-06-15T01:43:38</td>\n",
       "      <td>Normal</td>\n",
       "    </tr>\n",
       "    <tr>\n",
       "      <th>1</th>\n",
       "      <td>Unknown_UDP</td>\n",
       "      <td>236345</td>\n",
       "      <td>5324121</td>\n",
       "      <td>4282</td>\n",
       "      <td>3378</td>\n",
       "      <td>L2R</td>\n",
       "      <td>NaN</td>\n",
       "      <td>NaN</td>\n",
       "      <td>192.168.2.107</td>\n",
       "      <td>udp_ip</td>\n",
       "      <td>58040</td>\n",
       "      <td>96.238.239.35</td>\n",
       "      <td>24457</td>\n",
       "      <td>2010-06-14T21:54:58</td>\n",
       "      <td>2010-06-15T00:52:01</td>\n",
       "      <td>Normal</td>\n",
       "    </tr>\n",
       "    <tr>\n",
       "      <th>2</th>\n",
       "      <td>Unknown_UDP</td>\n",
       "      <td>410420</td>\n",
       "      <td>11797592</td>\n",
       "      <td>9416</td>\n",
       "      <td>5791</td>\n",
       "      <td>L2R</td>\n",
       "      <td>NaN</td>\n",
       "      <td>NaN</td>\n",
       "      <td>192.168.2.107</td>\n",
       "      <td>udp_ip</td>\n",
       "      <td>58040</td>\n",
       "      <td>220.126.251.32</td>\n",
       "      <td>27295</td>\n",
       "      <td>2010-06-14T21:55:15</td>\n",
       "      <td>2010-06-15T01:54:44</td>\n",
       "      <td>Normal</td>\n",
       "    </tr>\n",
       "    <tr>\n",
       "      <th>3</th>\n",
       "      <td>BitTorrent</td>\n",
       "      <td>127588</td>\n",
       "      <td>2949293</td>\n",
       "      <td>2249</td>\n",
       "      <td>1853</td>\n",
       "      <td>L2R</td>\n",
       "      <td>P,A</td>\n",
       "      <td>F,R,P,A</td>\n",
       "      <td>192.168.2.107</td>\n",
       "      <td>tcp_ip</td>\n",
       "      <td>2048</td>\n",
       "      <td>92.126.24.44</td>\n",
       "      <td>44817</td>\n",
       "      <td>2010-06-14T21:56:24</td>\n",
       "      <td>2010-06-15T00:53:07</td>\n",
       "      <td>Normal</td>\n",
       "    </tr>\n",
       "    <tr>\n",
       "      <th>4</th>\n",
       "      <td>Unknown_UDP</td>\n",
       "      <td>389781</td>\n",
       "      <td>11382564</td>\n",
       "      <td>8837</td>\n",
       "      <td>5531</td>\n",
       "      <td>L2R</td>\n",
       "      <td>NaN</td>\n",
       "      <td>NaN</td>\n",
       "      <td>192.168.2.107</td>\n",
       "      <td>udp_ip</td>\n",
       "      <td>58040</td>\n",
       "      <td>67.173.154.16</td>\n",
       "      <td>53341</td>\n",
       "      <td>2010-06-14T21:57:08</td>\n",
       "      <td>2010-06-15T01:54:44</td>\n",
       "      <td>Normal</td>\n",
       "    </tr>\n",
       "    <tr>\n",
       "      <th>5</th>\n",
       "      <td>Unknown_UDP</td>\n",
       "      <td>777402</td>\n",
       "      <td>6842735</td>\n",
       "      <td>22301</td>\n",
       "      <td>11559</td>\n",
       "      <td>L2R</td>\n",
       "      <td>NaN</td>\n",
       "      <td>NaN</td>\n",
       "      <td>192.168.2.107</td>\n",
       "      <td>udp_ip</td>\n",
       "      <td>58040</td>\n",
       "      <td>189.71.30.62</td>\n",
       "      <td>30024</td>\n",
       "      <td>2010-06-14T22:01:06</td>\n",
       "      <td>2010-06-15T00:59:05</td>\n",
       "      <td>Normal</td>\n",
       "    </tr>\n",
       "    <tr>\n",
       "      <th>6</th>\n",
       "      <td>BitTorrent</td>\n",
       "      <td>257639</td>\n",
       "      <td>5446263</td>\n",
       "      <td>5463</td>\n",
       "      <td>3749</td>\n",
       "      <td>L2R</td>\n",
       "      <td>R,P,A</td>\n",
       "      <td>P,A</td>\n",
       "      <td>192.168.2.107</td>\n",
       "      <td>tcp_ip</td>\n",
       "      <td>2090</td>\n",
       "      <td>95.133.100.164</td>\n",
       "      <td>35691</td>\n",
       "      <td>2010-06-14T22:01:10</td>\n",
       "      <td>2010-06-15T01:55:07</td>\n",
       "      <td>Normal</td>\n",
       "    </tr>\n",
       "    <tr>\n",
       "      <th>7</th>\n",
       "      <td>BitTorrent</td>\n",
       "      <td>281537</td>\n",
       "      <td>6628908</td>\n",
       "      <td>4770</td>\n",
       "      <td>4158</td>\n",
       "      <td>L2R</td>\n",
       "      <td>P,A</td>\n",
       "      <td>F,R,P,A</td>\n",
       "      <td>192.168.2.107</td>\n",
       "      <td>tcp_ip</td>\n",
       "      <td>2110</td>\n",
       "      <td>201.229.226.19</td>\n",
       "      <td>57421</td>\n",
       "      <td>2010-06-14T22:02:25</td>\n",
       "      <td>2010-06-15T01:05:20</td>\n",
       "      <td>Normal</td>\n",
       "    </tr>\n",
       "    <tr>\n",
       "      <th>8</th>\n",
       "      <td>BitTorrent</td>\n",
       "      <td>655532</td>\n",
       "      <td>12542818</td>\n",
       "      <td>13145</td>\n",
       "      <td>9797</td>\n",
       "      <td>L2R</td>\n",
       "      <td>R,P,A</td>\n",
       "      <td>P,A</td>\n",
       "      <td>192.168.2.107</td>\n",
       "      <td>tcp_ip</td>\n",
       "      <td>2109</td>\n",
       "      <td>84.75.188.175</td>\n",
       "      <td>55123</td>\n",
       "      <td>2010-06-14T22:02:25</td>\n",
       "      <td>2010-06-15T01:54:44</td>\n",
       "      <td>Normal</td>\n",
       "    </tr>\n",
       "    <tr>\n",
       "      <th>9</th>\n",
       "      <td>Unknown_TCP</td>\n",
       "      <td>462835</td>\n",
       "      <td>9128315</td>\n",
       "      <td>6706</td>\n",
       "      <td>6932</td>\n",
       "      <td>L2R</td>\n",
       "      <td>R,P,A</td>\n",
       "      <td>P,A</td>\n",
       "      <td>192.168.2.107</td>\n",
       "      <td>tcp_ip</td>\n",
       "      <td>2114</td>\n",
       "      <td>77.41.70.224</td>\n",
       "      <td>27571</td>\n",
       "      <td>2010-06-14T22:02:33</td>\n",
       "      <td>2010-06-15T01:54:44</td>\n",
       "      <td>Normal</td>\n",
       "    </tr>\n",
       "  </tbody>\n",
       "</table>\n",
       "</div>"
      ],
      "text/plain": [
       "       appName totalSourceBytes totalDestinationBytes totalDestinationPackets  \\\n",
       "0   BitTorrent           391223               4114484                    7322   \n",
       "1  Unknown_UDP           236345               5324121                    4282   \n",
       "2  Unknown_UDP           410420              11797592                    9416   \n",
       "3   BitTorrent           127588               2949293                    2249   \n",
       "4  Unknown_UDP           389781              11382564                    8837   \n",
       "5  Unknown_UDP           777402               6842735                   22301   \n",
       "6   BitTorrent           257639               5446263                    5463   \n",
       "7   BitTorrent           281537               6628908                    4770   \n",
       "8   BitTorrent           655532              12542818                   13145   \n",
       "9  Unknown_TCP           462835               9128315                    6706   \n",
       "\n",
       "  totalSourcePackets direction sourceTCPFlagsDescription  \\\n",
       "0               5650       L2R                     F,P,A   \n",
       "1               3378       L2R                       NaN   \n",
       "2               5791       L2R                       NaN   \n",
       "3               1853       L2R                       P,A   \n",
       "4               5531       L2R                       NaN   \n",
       "5              11559       L2R                       NaN   \n",
       "6               3749       L2R                     R,P,A   \n",
       "7               4158       L2R                       P,A   \n",
       "8               9797       L2R                     R,P,A   \n",
       "9               6932       L2R                     R,P,A   \n",
       "\n",
       "  destinationTCPFlagsDescription         source protocolName sourcePort  \\\n",
       "0                          F,P,A  192.168.2.107       tcp_ip       1989   \n",
       "1                            NaN  192.168.2.107       udp_ip      58040   \n",
       "2                            NaN  192.168.2.107       udp_ip      58040   \n",
       "3                        F,R,P,A  192.168.2.107       tcp_ip       2048   \n",
       "4                            NaN  192.168.2.107       udp_ip      58040   \n",
       "5                            NaN  192.168.2.107       udp_ip      58040   \n",
       "6                            P,A  192.168.2.107       tcp_ip       2090   \n",
       "7                        F,R,P,A  192.168.2.107       tcp_ip       2110   \n",
       "8                            P,A  192.168.2.107       tcp_ip       2109   \n",
       "9                            P,A  192.168.2.107       tcp_ip       2114   \n",
       "\n",
       "      destination destinationPort        startDateTime         stopDateTime  \\\n",
       "0   80.246.149.72            6880  2010-06-14T21:54:57  2010-06-15T01:43:38   \n",
       "1   96.238.239.35           24457  2010-06-14T21:54:58  2010-06-15T00:52:01   \n",
       "2  220.126.251.32           27295  2010-06-14T21:55:15  2010-06-15T01:54:44   \n",
       "3    92.126.24.44           44817  2010-06-14T21:56:24  2010-06-15T00:53:07   \n",
       "4   67.173.154.16           53341  2010-06-14T21:57:08  2010-06-15T01:54:44   \n",
       "5    189.71.30.62           30024  2010-06-14T22:01:06  2010-06-15T00:59:05   \n",
       "6  95.133.100.164           35691  2010-06-14T22:01:10  2010-06-15T01:55:07   \n",
       "7  201.229.226.19           57421  2010-06-14T22:02:25  2010-06-15T01:05:20   \n",
       "8   84.75.188.175           55123  2010-06-14T22:02:25  2010-06-15T01:54:44   \n",
       "9    77.41.70.224           27571  2010-06-14T22:02:33  2010-06-15T01:54:44   \n",
       "\n",
       "      Tag  \n",
       "0  Normal  \n",
       "1  Normal  \n",
       "2  Normal  \n",
       "3  Normal  \n",
       "4  Normal  \n",
       "5  Normal  \n",
       "6  Normal  \n",
       "7  Normal  \n",
       "8  Normal  \n",
       "9  Normal  "
      ]
     },
     "execution_count": 115,
     "metadata": {},
     "output_type": "execute_result"
    }
   ],
   "source": [
    "DF.head(10)"
   ]
  },
  {
   "cell_type": "code",
   "execution_count": 116,
   "metadata": {},
   "outputs": [],
   "source": [
    "#Revelant  Features\n",
    "\n",
    "Clustering=DF[['totalSourceBytes','totalDestinationBytes','totalDestinationPackets','totalSourcePackets','direction','protocolName','sourcePort','destinationPort']]"
   ]
  },
  {
   "cell_type": "code",
   "execution_count": 117,
   "metadata": {},
   "outputs": [
    {
     "data": {
      "text/html": [
       "<div>\n",
       "<style scoped>\n",
       "    .dataframe tbody tr th:only-of-type {\n",
       "        vertical-align: middle;\n",
       "    }\n",
       "\n",
       "    .dataframe tbody tr th {\n",
       "        vertical-align: top;\n",
       "    }\n",
       "\n",
       "    .dataframe thead th {\n",
       "        text-align: right;\n",
       "    }\n",
       "</style>\n",
       "<table border=\"1\" class=\"dataframe\">\n",
       "  <thead>\n",
       "    <tr style=\"text-align: right;\">\n",
       "      <th></th>\n",
       "      <th>totalSourceBytes</th>\n",
       "      <th>totalDestinationBytes</th>\n",
       "      <th>totalDestinationPackets</th>\n",
       "      <th>totalSourcePackets</th>\n",
       "      <th>direction</th>\n",
       "      <th>protocolName</th>\n",
       "      <th>sourcePort</th>\n",
       "      <th>destinationPort</th>\n",
       "    </tr>\n",
       "  </thead>\n",
       "  <tbody>\n",
       "    <tr>\n",
       "      <th>0</th>\n",
       "      <td>391223</td>\n",
       "      <td>4114484</td>\n",
       "      <td>7322</td>\n",
       "      <td>5650</td>\n",
       "      <td>L2R</td>\n",
       "      <td>tcp_ip</td>\n",
       "      <td>1989</td>\n",
       "      <td>6880</td>\n",
       "    </tr>\n",
       "    <tr>\n",
       "      <th>1</th>\n",
       "      <td>236345</td>\n",
       "      <td>5324121</td>\n",
       "      <td>4282</td>\n",
       "      <td>3378</td>\n",
       "      <td>L2R</td>\n",
       "      <td>udp_ip</td>\n",
       "      <td>58040</td>\n",
       "      <td>24457</td>\n",
       "    </tr>\n",
       "    <tr>\n",
       "      <th>2</th>\n",
       "      <td>410420</td>\n",
       "      <td>11797592</td>\n",
       "      <td>9416</td>\n",
       "      <td>5791</td>\n",
       "      <td>L2R</td>\n",
       "      <td>udp_ip</td>\n",
       "      <td>58040</td>\n",
       "      <td>27295</td>\n",
       "    </tr>\n",
       "  </tbody>\n",
       "</table>\n",
       "</div>"
      ],
      "text/plain": [
       "  totalSourceBytes totalDestinationBytes totalDestinationPackets  \\\n",
       "0           391223               4114484                    7322   \n",
       "1           236345               5324121                    4282   \n",
       "2           410420              11797592                    9416   \n",
       "\n",
       "  totalSourcePackets direction protocolName sourcePort destinationPort  \n",
       "0               5650       L2R       tcp_ip       1989            6880  \n",
       "1               3378       L2R       udp_ip      58040           24457  \n",
       "2               5791       L2R       udp_ip      58040           27295  "
      ]
     },
     "execution_count": 117,
     "metadata": {},
     "output_type": "execute_result"
    }
   ],
   "source": [
    "Clustering.head(3)"
   ]
  },
  {
   "cell_type": "code",
   "execution_count": 118,
   "metadata": {},
   "outputs": [],
   "source": [
    "#Revelant Numerical Features\n",
    "\n",
    "Step_1=Clustering[['totalSourceBytes','totalDestinationBytes','totalDestinationPackets','totalSourcePackets','sourcePort','destinationPort']]"
   ]
  },
  {
   "cell_type": "code",
   "execution_count": 119,
   "metadata": {},
   "outputs": [],
   "source": [
    "def Numeric(S):\n",
    "    return pd.to_numeric(S,errors='coerce')"
   ]
  },
  {
   "cell_type": "code",
   "execution_count": 120,
   "metadata": {},
   "outputs": [],
   "source": [
    "#Converting String to numeric\n",
    "\n",
    "Step_1=Step_1.apply(Numeric)"
   ]
  },
  {
   "cell_type": "code",
   "execution_count": 121,
   "metadata": {},
   "outputs": [],
   "source": [
    "#Categorical Features\n",
    "\n",
    "Step_2=DF[['direction','protocolName']]"
   ]
  },
  {
   "cell_type": "code",
   "execution_count": 122,
   "metadata": {},
   "outputs": [],
   "source": [
    "#Converting Categorical into Dummies \n",
    "\n",
    "Step_2=pd.get_dummies(Step_2)"
   ]
  },
  {
   "cell_type": "code",
   "execution_count": 123,
   "metadata": {},
   "outputs": [],
   "source": [
    "#Combining All Features into One\n",
    "\n",
    "Clusters=pd.concat([Step_1,Step_2],axis=1)"
   ]
  },
  {
   "cell_type": "code",
   "execution_count": 124,
   "metadata": {},
   "outputs": [],
   "source": [
    "Clusters.dropna(inplace=True)"
   ]
  },
  {
   "cell_type": "code",
   "execution_count": 99,
   "metadata": {},
   "outputs": [
    {
     "data": {
      "text/plain": [
       "<seaborn.axisgrid.PairGrid at 0x1e690d0b2b0>"
      ]
     },
     "execution_count": 99,
     "metadata": {},
     "output_type": "execute_result"
    },
    {
     "data": {
      "image/png": "[encoded data removed]",
      "text/plain": [
       "<matplotlib.figure.Figure at 0x1e690a22240>"
      ]
     },
     "metadata": {},
     "output_type": "display_data"
    }
   ],
   "source": [
    "snsAA.pairplot(Clusters.iloc[:,:6])"
   ]
  },
  {
   "cell_type": "code",
   "execution_count": 125,
   "metadata": {},
   "outputs": [
    {
     "data": {
      "text/html": [
       "<div>\n",
       "<style scoped>\n",
       "    .dataframe tbody tr th:only-of-type {\n",
       "        vertical-align: middle;\n",
       "    }\n",
       "\n",
       "    .dataframe tbody tr th {\n",
       "        vertical-align: top;\n",
       "    }\n",
       "\n",
       "    .dataframe thead th {\n",
       "        text-align: right;\n",
       "    }\n",
       "</style>\n",
       "<table border=\"1\" class=\"dataframe\">\n",
       "  <thead>\n",
       "    <tr style=\"text-align: right;\">\n",
       "      <th></th>\n",
       "      <th>totalSourceBytes</th>\n",
       "      <th>totalDestinationBytes</th>\n",
       "      <th>totalDestinationPackets</th>\n",
       "      <th>totalSourcePackets</th>\n",
       "      <th>sourcePort</th>\n",
       "      <th>destinationPort</th>\n",
       "    </tr>\n",
       "  </thead>\n",
       "  <tbody>\n",
       "    <tr>\n",
       "      <th>0</th>\n",
       "      <td>391223.0</td>\n",
       "      <td>4114484.0</td>\n",
       "      <td>7322.0</td>\n",
       "      <td>5650.0</td>\n",
       "      <td>1989.0</td>\n",
       "      <td>6880.0</td>\n",
       "    </tr>\n",
       "    <tr>\n",
       "      <th>1</th>\n",
       "      <td>236345.0</td>\n",
       "      <td>5324121.0</td>\n",
       "      <td>4282.0</td>\n",
       "      <td>3378.0</td>\n",
       "      <td>58040.0</td>\n",
       "      <td>24457.0</td>\n",
       "    </tr>\n",
       "    <tr>\n",
       "      <th>2</th>\n",
       "      <td>410420.0</td>\n",
       "      <td>11797592.0</td>\n",
       "      <td>9416.0</td>\n",
       "      <td>5791.0</td>\n",
       "      <td>58040.0</td>\n",
       "      <td>27295.0</td>\n",
       "    </tr>\n",
       "  </tbody>\n",
       "</table>\n",
       "</div>"
      ],
      "text/plain": [
       "   totalSourceBytes  totalDestinationBytes  totalDestinationPackets  \\\n",
       "0          391223.0              4114484.0                   7322.0   \n",
       "1          236345.0              5324121.0                   4282.0   \n",
       "2          410420.0             11797592.0                   9416.0   \n",
       "\n",
       "   totalSourcePackets  sourcePort  destinationPort  \n",
       "0              5650.0      1989.0           6880.0  \n",
       "1              3378.0     58040.0          24457.0  \n",
       "2              5791.0     58040.0          27295.0  "
      ]
     },
     "execution_count": 125,
     "metadata": {},
     "output_type": "execute_result"
    }
   ],
   "source": [
    "#First Six Features of the Data set\n",
    "\n",
    "Clusters.iloc[:,:6].head(3)"
   ]
  },
  {
   "cell_type": "code",
   "execution_count": 126,
   "metadata": {},
   "outputs": [
    {
     "data": {
      "text/plain": [
       "array([[  5.12556639e-04,   2.32778252e-02,   1.36077431e-02, ...,\n",
       "          0.00000000e+00,   1.00000000e+00,   0.00000000e+00],\n",
       "       [  3.09644880e-04,   3.01213853e-02,   7.95798363e-03, ...,\n",
       "          0.00000000e+00,   0.00000000e+00,   1.00000000e+00],\n",
       "       [  5.37707383e-04,   6.67452551e-02,   1.74993867e-02, ...,\n",
       "          0.00000000e+00,   0.00000000e+00,   1.00000000e+00],\n",
       "       ..., \n",
       "       [  1.32324072e-07,   2.94757421e-06,   1.85847352e-06, ...,\n",
       "          0.00000000e+00,   0.00000000e+00,   1.00000000e+00],\n",
       "       [  4.19244585e-07,   4.29406684e-05,   9.29236762e-06, ...,\n",
       "          0.00000000e+00,   1.00000000e+00,   0.00000000e+00],\n",
       "       [  0.00000000e+00,   3.62082052e-07,   1.85847352e-06, ...,\n",
       "          0.00000000e+00,   1.00000000e+00,   0.00000000e+00]])"
      ]
     },
     "execution_count": 126,
     "metadata": {},
     "output_type": "execute_result"
    }
   ],
   "source": [
    "Final_1"
   ]
  },
  {
   "cell_type": "markdown",
   "metadata": {},
   "source": [
    "## Data Preprocessing"
   ]
  },
  {
   "cell_type": "markdown",
   "metadata": {},
   "source": [
    "#### MinMax\n",
    "\n",
    "**Transforms features by scaling each feature to a given range\n",
    "This estimator scales and translates each feature individually such that it is in the given range on the training set, i.e. between zero and one**"
   ]
  },
  {
   "cell_type": "markdown",
   "metadata": {},
   "source": [
    "#### Standard Scalar\n",
    "\n",
    "**Transforms Each Feature such that for each feature the mean is 0 and variance is 1**"
   ]
  },
  {
   "cell_type": "markdown",
   "metadata": {},
   "source": [
    "#### Robust Scalar\n",
    "\n",
    "**Transforms Each Feature similar to that of Standard Scalar but differs in respect that it uses Median**\n"
   ]
  },
  {
   "cell_type": "markdown",
   "metadata": {},
   "source": [
    "#### Normalizer\n",
    "\n",
    "**Transforms each feature such that each Feeature has a Total Eucledian length of 1 (Feature Vector)**"
   ]
  },
  {
   "cell_type": "code",
   "execution_count": null,
   "metadata": {},
   "outputs": [],
   "source": []
  },
  {
   "cell_type": "code",
   "execution_count": 127,
   "metadata": {},
   "outputs": [],
   "source": [
    "from sklearn.preprocessing import MinMaxScaler"
   ]
  },
  {
   "cell_type": "code",
   "execution_count": 128,
   "metadata": {},
   "outputs": [],
   "source": [
    "L=MinMaxScaler()"
   ]
  },
  {
   "cell_type": "code",
   "execution_count": 129,
   "metadata": {},
   "outputs": [],
   "source": [
    "#Extracting out the Transformed Values\n",
    "Final_1=L.fit_transform(Clusters)"
   ]
  },
  {
   "cell_type": "code",
   "execution_count": 130,
   "metadata": {},
   "outputs": [],
   "source": [
    "from sklearn.preprocessing import Normalizer"
   ]
  },
  {
   "cell_type": "code",
   "execution_count": 131,
   "metadata": {},
   "outputs": [],
   "source": [
    "Normalizer_1=Normalizer()"
   ]
  },
  {
   "cell_type": "code",
   "execution_count": 132,
   "metadata": {},
   "outputs": [],
   "source": [
    "Normalizer_1=Normalizer_1.fit_transform(Clusters)"
   ]
  },
  {
   "cell_type": "code",
   "execution_count": 133,
   "metadata": {},
   "outputs": [],
   "source": [
    "from sklearn.preprocessing import StandardScaler"
   ]
  },
  {
   "cell_type": "code",
   "execution_count": 134,
   "metadata": {},
   "outputs": [],
   "source": [
    "Standard_1=StandardScaler()"
   ]
  },
  {
   "cell_type": "code",
   "execution_count": 135,
   "metadata": {},
   "outputs": [],
   "source": [
    "Standard_1=Standard_1.fit_transform(Clusters)"
   ]
  },
  {
   "cell_type": "code",
   "execution_count": 136,
   "metadata": {},
   "outputs": [],
   "source": [
    "from sklearn.preprocessing import RobustScaler"
   ]
  },
  {
   "cell_type": "code",
   "execution_count": 137,
   "metadata": {},
   "outputs": [],
   "source": [
    "Robust_1=RobustScaler()"
   ]
  },
  {
   "cell_type": "code",
   "execution_count": 138,
   "metadata": {},
   "outputs": [],
   "source": [
    "Robust_1=Robust_1.fit_transform(Clusters)"
   ]
  },
  {
   "cell_type": "markdown",
   "metadata": {},
   "source": [
    "# Clustering"
   ]
  },
  {
   "cell_type": "markdown",
   "metadata": {},
   "source": [
    "### K Means : \n",
    "\n",
    "**K-means is often referred to as Lloyd’s algorithm. In basic terms, the algorithm has three steps. The first step chooses the initial centroids, with the most basic method being to choose k samples from the dataset X. After initialization, K-means consists of looping between the two other steps. The first step assigns each sample to its nearest centroid. The second step creates new centroids by taking the mean value of all of the samples assigned to each previous centroid. The difference between the old and the new centroids are computed and the algorithm repeats these last two steps until this value is less than a threshold. In other words, it repeats until the centroids do not move significantly**\n",
    "\n",
    "\n",
    "#### MinMax"
   ]
  },
  {
   "cell_type": "code",
   "execution_count": 139,
   "metadata": {},
   "outputs": [],
   "source": [
    "from sklearn.cluster import KMeans"
   ]
  },
  {
   "cell_type": "code",
   "execution_count": 140,
   "metadata": {},
   "outputs": [],
   "source": [
    "Model=KMeans(n_clusters=2)"
   ]
  },
  {
   "cell_type": "code",
   "execution_count": 141,
   "metadata": {},
   "outputs": [
    {
     "data": {
      "text/plain": [
       "KMeans(algorithm='auto', copy_x=True, init='k-means++', max_iter=300,\n",
       "    n_clusters=2, n_init=10, n_jobs=1, precompute_distances='auto',\n",
       "    random_state=None, tol=0.0001, verbose=0)"
      ]
     },
     "execution_count": 141,
     "metadata": {},
     "output_type": "execute_result"
    }
   ],
   "source": [
    "Model.fit(Final_1)"
   ]
  },
  {
   "cell_type": "code",
   "execution_count": 142,
   "metadata": {},
   "outputs": [],
   "source": [
    "Predictions=Model.predict(Final_1)"
   ]
  },
  {
   "cell_type": "code",
   "execution_count": 143,
   "metadata": {},
   "outputs": [],
   "source": [
    "Final_2=pd.DataFrame(Model.labels_,columns=['Clusters'])"
   ]
  },
  {
   "cell_type": "code",
   "execution_count": 144,
   "metadata": {},
   "outputs": [
    {
     "data": {
      "text/plain": [
       "1    447675\n",
       "0    124023\n",
       "Name: Clusters, dtype: int64"
      ]
     },
     "execution_count": 144,
     "metadata": {},
     "output_type": "execute_result"
    }
   ],
   "source": [
    "Final_2['Clusters'].value_counts()"
   ]
  },
  {
   "cell_type": "code",
   "execution_count": 145,
   "metadata": {},
   "outputs": [
    {
     "data": {
      "text/plain": [
       "Normal    534238\n",
       "Attack     37460\n",
       "Tag            2\n",
       "Name: Tag, dtype: int64"
      ]
     },
     "execution_count": 145,
     "metadata": {},
     "output_type": "execute_result"
    }
   ],
   "source": [
    "DF['Tag'].value_counts()"
   ]
  },
  {
   "cell_type": "code",
   "execution_count": 146,
   "metadata": {},
   "outputs": [
    {
     "data": {
      "text/plain": [
       "array([1, 0, 0, ..., 0, 1, 1])"
      ]
     },
     "execution_count": 146,
     "metadata": {},
     "output_type": "execute_result"
    }
   ],
   "source": [
    "Model.labels_"
   ]
  },
  {
   "cell_type": "code",
   "execution_count": 147,
   "metadata": {},
   "outputs": [
    {
     "data": {
      "text/plain": [
       "array(['Normal', 'Normal', 'Normal', ..., 'Normal', 'Normal', 'Normal'], dtype=object)"
      ]
     },
     "execution_count": 147,
     "metadata": {},
     "output_type": "execute_result"
    }
   ],
   "source": [
    "np.array(DF['Tag'])"
   ]
  },
  {
   "cell_type": "markdown",
   "metadata": {},
   "source": [
    "# ---------------------------------- #"
   ]
  },
  {
   "cell_type": "markdown",
   "metadata": {},
   "source": [
    "### Birch     \n",
    "\n",
    "**Implements the Birch clustering algorithm**\n",
    "\n",
    "**It is a memory-efficient, learning algorithm provided as an alternative to MiniBatchKMeans. It constructs a tree data structure with the cluster centroids being read off the leaf. These can be either the final cluster centroids or can be provided as input to another clustering algorithm such as Agglomerative Clusterin.**\n",
    "\n",
    "**The Birch algorithm builds a dendrogram called clustering feature tree (CF tree) while scanning the data set. Each entry in the CF tree represents a cluster of objects and is characterized by a 3-tuple: (N, LS, SS), where N is the number of objects in the cluster**\n",
    "\n",
    "#### MinMax"
   ]
  },
  {
   "cell_type": "code",
   "execution_count": 148,
   "metadata": {},
   "outputs": [],
   "source": [
    "from sklearn.cluster import Birch"
   ]
  },
  {
   "cell_type": "code",
   "execution_count": 149,
   "metadata": {},
   "outputs": [],
   "source": [
    "Model1=Birch(n_clusters=2)"
   ]
  },
  {
   "cell_type": "code",
   "execution_count": 150,
   "metadata": {},
   "outputs": [
    {
     "data": {
      "text/html": [
       "<div>\n",
       "<style scoped>\n",
       "    .dataframe tbody tr th:only-of-type {\n",
       "        vertical-align: middle;\n",
       "    }\n",
       "\n",
       "    .dataframe tbody tr th {\n",
       "        vertical-align: top;\n",
       "    }\n",
       "\n",
       "    .dataframe thead th {\n",
       "        text-align: right;\n",
       "    }\n",
       "</style>\n",
       "<table border=\"1\" class=\"dataframe\">\n",
       "  <thead>\n",
       "    <tr style=\"text-align: right;\">\n",
       "      <th></th>\n",
       "      <th>0</th>\n",
       "      <th>1</th>\n",
       "      <th>2</th>\n",
       "      <th>3</th>\n",
       "      <th>4</th>\n",
       "      <th>5</th>\n",
       "      <th>6</th>\n",
       "      <th>7</th>\n",
       "      <th>8</th>\n",
       "      <th>9</th>\n",
       "      <th>10</th>\n",
       "      <th>11</th>\n",
       "      <th>12</th>\n",
       "      <th>13</th>\n",
       "      <th>14</th>\n",
       "      <th>15</th>\n",
       "      <th>16</th>\n",
       "    </tr>\n",
       "  </thead>\n",
       "  <tbody>\n",
       "    <tr>\n",
       "      <th>0</th>\n",
       "      <td>0.000513</td>\n",
       "      <td>0.023278</td>\n",
       "      <td>0.013608</td>\n",
       "      <td>0.010975</td>\n",
       "      <td>0.030351</td>\n",
       "      <td>0.104982</td>\n",
       "      <td>0.0</td>\n",
       "      <td>1.0</td>\n",
       "      <td>0.0</td>\n",
       "      <td>0.0</td>\n",
       "      <td>0.0</td>\n",
       "      <td>0.0</td>\n",
       "      <td>0.0</td>\n",
       "      <td>0.0</td>\n",
       "      <td>0.0</td>\n",
       "      <td>1.0</td>\n",
       "      <td>0.0</td>\n",
       "    </tr>\n",
       "  </tbody>\n",
       "</table>\n",
       "</div>"
      ],
      "text/plain": [
       "         0         1         2         3         4         5    6    7    8   \\\n",
       "0  0.000513  0.023278  0.013608  0.010975  0.030351  0.104982  0.0  1.0  0.0   \n",
       "\n",
       "    9    10   11   12   13   14   15   16  \n",
       "0  0.0  0.0  0.0  0.0  0.0  0.0  1.0  0.0  "
      ]
     },
     "execution_count": 150,
     "metadata": {},
     "output_type": "execute_result"
    }
   ],
   "source": [
    "pd.DataFrame(Final_1).head(1)"
   ]
  },
  {
   "cell_type": "code",
   "execution_count": 151,
   "metadata": {},
   "outputs": [
    {
     "data": {
      "text/plain": [
       "Birch(branching_factor=50, compute_labels=True, copy=True, n_clusters=2,\n",
       "   threshold=0.5)"
      ]
     },
     "execution_count": 151,
     "metadata": {},
     "output_type": "execute_result"
    }
   ],
   "source": [
    "Model1.fit(Final_1)"
   ]
  },
  {
   "cell_type": "code",
   "execution_count": 152,
   "metadata": {},
   "outputs": [
    {
     "data": {
      "text/plain": [
       "1    447656\n",
       "0    124042\n",
       "dtype: int64"
      ]
     },
     "execution_count": 152,
     "metadata": {},
     "output_type": "execute_result"
    }
   ],
   "source": [
    "pd.Series(Model1.labels_).value_counts()"
   ]
  },
  {
   "cell_type": "code",
   "execution_count": 153,
   "metadata": {},
   "outputs": [
    {
     "data": {
      "text/plain": [
       "Normal    534238\n",
       "Attack     37460\n",
       "Tag            2\n",
       "Name: Tag, dtype: int64"
      ]
     },
     "execution_count": 153,
     "metadata": {},
     "output_type": "execute_result"
    }
   ],
   "source": [
    "DF['Tag'].value_counts()"
   ]
  },
  {
   "cell_type": "markdown",
   "metadata": {},
   "source": [
    "## ------------------------------------- ##"
   ]
  },
  {
   "cell_type": "markdown",
   "metadata": {},
   "source": [
    "### KMeans:Normalizer"
   ]
  },
  {
   "cell_type": "code",
   "execution_count": 154,
   "metadata": {},
   "outputs": [
    {
     "data": {
      "text/plain": [
       "KMeans(algorithm='auto', copy_x=True, init='k-means++', max_iter=300,\n",
       "    n_clusters=2, n_init=10, n_jobs=1, precompute_distances='auto',\n",
       "    random_state=None, tol=0.0001, verbose=0)"
      ]
     },
     "execution_count": 154,
     "metadata": {},
     "output_type": "execute_result"
    }
   ],
   "source": [
    "Model.fit(Normalizer_1)"
   ]
  },
  {
   "cell_type": "code",
   "execution_count": 155,
   "metadata": {},
   "outputs": [
    {
     "data": {
      "text/plain": [
       "0    343629\n",
       "1    228069\n",
       "dtype: int64"
      ]
     },
     "execution_count": 155,
     "metadata": {},
     "output_type": "execute_result"
    }
   ],
   "source": [
    "pd.Series(Model.labels_).value_counts()"
   ]
  },
  {
   "cell_type": "code",
   "execution_count": 156,
   "metadata": {},
   "outputs": [
    {
     "data": {
      "text/plain": [
       "Normal    534238\n",
       "Attack     37460\n",
       "Tag            2\n",
       "Name: Tag, dtype: int64"
      ]
     },
     "execution_count": 156,
     "metadata": {},
     "output_type": "execute_result"
    }
   ],
   "source": [
    "DF['Tag'].value_counts()"
   ]
  },
  {
   "cell_type": "markdown",
   "metadata": {},
   "source": [
    "###  Birch: Normalizer"
   ]
  },
  {
   "cell_type": "code",
   "execution_count": 175,
   "metadata": {},
   "outputs": [
    {
     "data": {
      "text/plain": [
       "Birch(branching_factor=50, compute_labels=True, copy=True, n_clusters=2,\n",
       "   threshold=0.5)"
      ]
     },
     "execution_count": 175,
     "metadata": {},
     "output_type": "execute_result"
    }
   ],
   "source": [
    "Model1.fit(Normalizer_1)"
   ]
  },
  {
   "cell_type": "code",
   "execution_count": 176,
   "metadata": {},
   "outputs": [
    {
     "data": {
      "text/plain": [
       "1    533227\n",
       "0     38471\n",
       "dtype: int64"
      ]
     },
     "execution_count": 176,
     "metadata": {},
     "output_type": "execute_result"
    }
   ],
   "source": [
    "pd.Series(Model1.labels_).value_counts()"
   ]
  },
  {
   "cell_type": "code",
   "execution_count": 177,
   "metadata": {},
   "outputs": [
    {
     "data": {
      "text/plain": [
       "Normal    534238\n",
       "Attack     37460\n",
       "Tag            2\n",
       "Name: Tag, dtype: int64"
      ]
     },
     "execution_count": 177,
     "metadata": {},
     "output_type": "execute_result"
    }
   ],
   "source": [
    "DF['Tag'].value_counts()"
   ]
  },
  {
   "cell_type": "markdown",
   "metadata": {},
   "source": [
    "## ---------------------------------\n"
   ]
  },
  {
   "cell_type": "markdown",
   "metadata": {},
   "source": [
    "### KMeans:Standard Scalar"
   ]
  },
  {
   "cell_type": "code",
   "execution_count": 160,
   "metadata": {},
   "outputs": [
    {
     "data": {
      "text/plain": [
       "KMeans(algorithm='auto', copy_x=True, init='k-means++', max_iter=300,\n",
       "    n_clusters=2, n_init=10, n_jobs=1, precompute_distances='auto',\n",
       "    random_state=None, tol=0.0001, verbose=0)"
      ]
     },
     "execution_count": 160,
     "metadata": {},
     "output_type": "execute_result"
    }
   ],
   "source": [
    "Model.fit(Standard_1)"
   ]
  },
  {
   "cell_type": "code",
   "execution_count": 161,
   "metadata": {},
   "outputs": [
    {
     "data": {
      "text/plain": [
       "0    571697\n",
       "1         1\n",
       "dtype: int64"
      ]
     },
     "execution_count": 161,
     "metadata": {},
     "output_type": "execute_result"
    }
   ],
   "source": [
    "pd.Series(Model.labels_).value_counts()"
   ]
  },
  {
   "cell_type": "code",
   "execution_count": 162,
   "metadata": {},
   "outputs": [
    {
     "data": {
      "text/plain": [
       "Normal    534238\n",
       "Attack     37460\n",
       "Tag            2\n",
       "Name: Tag, dtype: int64"
      ]
     },
     "execution_count": 162,
     "metadata": {},
     "output_type": "execute_result"
    }
   ],
   "source": [
    "DF['Tag'].value_counts()"
   ]
  },
  {
   "cell_type": "markdown",
   "metadata": {},
   "source": [
    "### Birch: Standard Scalar"
   ]
  },
  {
   "cell_type": "code",
   "execution_count": 163,
   "metadata": {},
   "outputs": [
    {
     "data": {
      "text/plain": [
       "Birch(branching_factor=50, compute_labels=True, copy=True, n_clusters=2,\n",
       "   threshold=0.5)"
      ]
     },
     "execution_count": 163,
     "metadata": {},
     "output_type": "execute_result"
    }
   ],
   "source": [
    "Model1.fit(Standard_1)"
   ]
  },
  {
   "cell_type": "code",
   "execution_count": 164,
   "metadata": {},
   "outputs": [
    {
     "data": {
      "text/plain": [
       "0    571697\n",
       "1         1\n",
       "dtype: int64"
      ]
     },
     "execution_count": 164,
     "metadata": {},
     "output_type": "execute_result"
    }
   ],
   "source": [
    "pd.Series(Model1.labels_).value_counts()"
   ]
  },
  {
   "cell_type": "code",
   "execution_count": 165,
   "metadata": {},
   "outputs": [
    {
     "data": {
      "text/plain": [
       "Normal    534238\n",
       "Attack     37460\n",
       "Tag            2\n",
       "Name: Tag, dtype: int64"
      ]
     },
     "execution_count": 165,
     "metadata": {},
     "output_type": "execute_result"
    }
   ],
   "source": [
    "DF['Tag'].value_counts()"
   ]
  },
  {
   "cell_type": "markdown",
   "metadata": {},
   "source": [
    "### ------------------"
   ]
  },
  {
   "cell_type": "markdown",
   "metadata": {},
   "source": [
    "### KMeans : Robust Scalar"
   ]
  },
  {
   "cell_type": "code",
   "execution_count": 166,
   "metadata": {},
   "outputs": [
    {
     "data": {
      "text/plain": [
       "KMeans(algorithm='auto', copy_x=True, init='k-means++', max_iter=300,\n",
       "    n_clusters=2, n_init=10, n_jobs=1, precompute_distances='auto',\n",
       "    random_state=None, tol=0.0001, verbose=0)"
      ]
     },
     "execution_count": 166,
     "metadata": {},
     "output_type": "execute_result"
    }
   ],
   "source": [
    "Model.fit(Robust_1)"
   ]
  },
  {
   "cell_type": "code",
   "execution_count": 167,
   "metadata": {},
   "outputs": [
    {
     "data": {
      "text/plain": [
       "0    517041\n",
       "1     54657\n",
       "dtype: int64"
      ]
     },
     "execution_count": 167,
     "metadata": {},
     "output_type": "execute_result"
    }
   ],
   "source": [
    "pd.Series(Model.labels_).value_counts()"
   ]
  },
  {
   "cell_type": "code",
   "execution_count": 168,
   "metadata": {},
   "outputs": [
    {
     "data": {
      "text/plain": [
       "Normal    534238\n",
       "Attack     37460\n",
       "Tag            2\n",
       "Name: Tag, dtype: int64"
      ]
     },
     "execution_count": 168,
     "metadata": {},
     "output_type": "execute_result"
    }
   ],
   "source": [
    "DF['Tag'].value_counts()"
   ]
  },
  {
   "cell_type": "markdown",
   "metadata": {},
   "source": [
    "## Conclusion\n",
    "\n",
    "#### Out of all The Birch Clustering with Normalizer Preprocessing of the Dataset Produces the Best Clusters in accordance with the Dropped Tag Table"
   ]
  },
  {
   "cell_type": "code",
   "execution_count": 178,
   "metadata": {},
   "outputs": [
    {
     "data": {
      "text/plain": [
       "1    533227\n",
       "0     38471\n",
       "dtype: int64"
      ]
     },
     "execution_count": 178,
     "metadata": {},
     "output_type": "execute_result"
    }
   ],
   "source": [
    "X=pd.Series(Model1.labels_).value_counts()\n",
    "X"
   ]
  },
  {
   "cell_type": "code",
   "execution_count": 179,
   "metadata": {},
   "outputs": [
    {
     "data": {
      "text/plain": [
       "Normal    534238\n",
       "Attack     37460\n",
       "Tag            2\n",
       "Name: Tag, dtype: int64"
      ]
     },
     "execution_count": 179,
     "metadata": {},
     "output_type": "execute_result"
    }
   ],
   "source": [
    "Y=DF['Tag'].value_counts()\n",
    "Y"
   ]
  },
  {
   "cell_type": "code",
   "execution_count": 180,
   "metadata": {},
   "outputs": [],
   "source": [
    "Y=Y.drop('Tag')\n",
    "Y.index=[1,0]"
   ]
  },
  {
   "cell_type": "code",
   "execution_count": 181,
   "metadata": {},
   "outputs": [
    {
     "data": {
      "text/plain": [
       "1    534238\n",
       "0     37460\n",
       "Name: Tag, dtype: int64"
      ]
     },
     "execution_count": 181,
     "metadata": {},
     "output_type": "execute_result"
    }
   ],
   "source": [
    "Y"
   ]
  },
  {
   "cell_type": "markdown",
   "metadata": {},
   "source": [
    "# ---------------"
   ]
  },
  {
   "cell_type": "code",
   "execution_count": 182,
   "metadata": {},
   "outputs": [
    {
     "name": "stdout",
     "output_type": "stream",
     "text": [
      "Normal Packet Precision 0.998107585009\n"
     ]
    }
   ],
   "source": [
    "print(\"Normal Packet Precision\",(X[1]/Y[1]))\n",
    "\n",
    "##BIRCH CLUSTERING WITH Normalizer Preprocessing"
   ]
  },
  {
   "cell_type": "code",
   "execution_count": 183,
   "metadata": {},
   "outputs": [
    {
     "name": "stdout",
     "output_type": "stream",
     "text": [
      "Attack Packet Precision 0.973720464766\n"
     ]
    }
   ],
   "source": [
    "print(\"Attack Packet Precision\",(Y[0]/X[0]))\n",
    "\n",
    "##ATACK CLUSTERING WITH Normalizer Preprocessing"
   ]
  },
  {
   "cell_type": "markdown",
   "metadata": {},
   "source": [
    "### ----------------"
   ]
  },
  {
   "cell_type": "code",
   "execution_count": 206,
   "metadata": {},
   "outputs": [
    {
     "data": {
      "text/plain": [
       "<matplotlib.axes._subplots.AxesSubplot at 0x1e6a5d69cc0>"
      ]
     },
     "execution_count": 206,
     "metadata": {},
     "output_type": "execute_result"
    },
    {
     "data": {
      "image/png": "[encoded data removed]",
      "text/plain": [
       "<matplotlib.figure.Figure at 0x1e6a5db3908>"
      ]
     },
     "metadata": {},
     "output_type": "display_data"
    }
   ],
   "source": [
    "Original=plt.figure(figsize=(14,4))\n",
    "Original.suptitle(\"Clustering Using Birch and Normaliser Preprocessor\",fontsize=20)\n",
    "Line1=plt.subplot(1,2,1)\n",
    "Line1.set_ylabel('No of Counts')\n",
    "Line1.set_xlabel(\"Clustering\")\n",
    "X.plot.bar()\n",
    "Line2=plt.subplot(1,2,2)\n",
    "Line2.set_xlabel('Original Csv Information')\n",
    "Line2.set_ylabel(\"Counts\")\n",
    "Y.plot.bar()"
   ]
  },
  {
   "cell_type": "markdown",
   "metadata": {},
   "source": [
    "### ---------------------------------------------------------------------------------"
   ]
  },
  {
   "cell_type": "markdown",
   "metadata": {},
   "source": [
    "**The Following Project is Made by**\n",
    "    * Yash Singhal(15103315)\n",
    "    * Yash Varshney(15103314)\n",
    "    * Ayushi Jain (15103294)\n",
    "    * Shrey Batra (15103308)"
   ]
  },
  {
   "cell_type": "code",
   "execution_count": null,
   "metadata": {},
   "outputs": [],
   "source": []
  }
 ],
 "metadata": {
  "kernelspec": {
   "display_name": "Python 3",
   "language": "python",
   "name": "python3"
  },
  "language_info": {
   "codemirror_mode": {
    "name": "ipython",
    "version": 3
   },
   "file_extension": ".py",
   "mimetype": "text/x-python",
   "name": "python",
   "nbconvert_exporter": "python",
   "pygments_lexer": "ipython3",
   "version": "3.6.4"
  }
 },
 "nbformat": 4,
 "nbformat_minor": 2
}
